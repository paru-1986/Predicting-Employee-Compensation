{
 "cells": [
  {
   "cell_type": "markdown",
   "metadata": {
    "id": "dOMqSrk_Q-xH"
   },
   "source": [
    "### Setup the Spark VM and complete the below assignment\n",
    "\n",
    "Objective:- Build a ML model to predict the employee compensation.\n",
    "The application should be modelled using Spark.\n",
    "\n",
    "You can refer to the below links for spark commands:- \n",
    "- https://spark.apache.org/docs/latest/ml-pipeline.html\n",
    "\n",
    "- https://github.com/spark-in-action/first-edition\n",
    "\n",
    "- https://github.com/FavioVazquez/first_spark_model"
   ]
  },
  {
   "cell_type": "markdown",
   "metadata": {
    "application/vnd.databricks.v1+cell": {
     "inputWidgets": {},
     "nuid": "2f9c04dd-cf52-4c53-aecd-bfe96f9529af",
     "showTitle": false,
     "title": ""
    },
    "id": "lAEn9f14QP0a"
   },
   "source": [
    "# Predicting Employee Compensation"
   ]
  },
  {
   "cell_type": "markdown",
   "metadata": {
    "application/vnd.databricks.v1+cell": {
     "inputWidgets": {},
     "nuid": "0ad7374a-5b59-4f1d-9a73-ecdf72f93ffd",
     "showTitle": false,
     "title": ""
    },
    "id": "SsDAS5vxQP0c"
   },
   "source": [
    "## Data Dictionary\n",
    "<br>**Year Type** - Fiscal (July through June) or Calendar (January through December)\n",
    "<br>**Year** - An accounting period of 12 months. The City and County of San Francisco operates on a fiscal year that begins on July 1 and ends on June 30 the following year. The Fiscal Year ending June 30, 2012 is represented as FY2011-2012.\n",
    "<br>**Organization Group Code** - Org Group is a group of Departments. For example, the Public Protection Org Group includes departments such as the Police,Fire, Adult Probation, District Attorney, and Sheriff.\n",
    "<br> **Organization Group** - Org Group is a group of Departments. For example, the Public Protection Org Group includes departments such as the Police,\n",
    "Fire, Adult Probation, District Attorney, and Sheriff.\n",
    "<br>**Department Code** - Departments are the primary organizational unit used by the Cityand County of San Francisco. Examples include Recreation and\n",
    "Parks, Public Works, and the Police Department.\n",
    "<br>**Department Code** - Departments are the primary organizational unit used by the City and County of San Francisco. Examples include Recreation and Parks, Public Works, and the Police Department.\n",
    "<br>**Union Code** - Unions represent employees in collective bargaining agreements. A job belongs to one union, although some jobs are unrepresented (usually temporarily).\n",
    "<br>**Union** - Unions represent employees in collective bargaining agreements. A job belongs to one union, although some jobs are unrepresented (usually temporarily).\n",
    "<br>**Job Family Code** Job Family combines similar Jobs into meaningful groups.\n",
    "<br>**Job Family** Job Family combines similar Jobs into meaningful groups.\n",
    "<br>**Employee Identifier** Each distinct number in the “Employee Identifier” column represents one employee. These identifying numbers are not meaningful but rather are randomly assigned for the purpose of building this dataset. The column does not appear on the\n",
    "Employee Compensation report hosted on openbook.sfgov.org,\n",
    "but that report does show one row for each employee. Employee\n",
    "ID has been included here to allow users to reconstruct the\n",
    "original report. Note that each employee’s identifier will change\n",
    "each time this dataset is updated, so comparisons by employee\n",
    "across multiple versions of the dataset are not possible.\n",
    "<br>**Salaries** - Normal salaries paid to permanent or temporary City employees.\n",
    "<br>**Overtime** - Amounts paid to City employees working in excess of 40 hours\n",
    "per week.\n",
    "<br>**Other Salaries** - Various irregular payments made to City employees including premium pay, incentive pay, or other one-time payments. Total Salary Number The sum of all salaries paid to City employees.\n",
    "<br>**Retirement** City contributions to employee retirement plans.\n",
    "<br>**Health/Dental** City-paid premiums to health and dental insurance plans covering City employees. To protect confidentiality as legally required, pro-rated citywide averages are presented in lieu of employee-specific health and dental benefits.\n",
    "<br>**Other Benefits** Mandatory benefits paid on behalf of employees, such as Social Security (FICA and Medicare) contributions, unemployment\n",
    "insurance premiums, and minor discretionary benefits not included in the above categories.\n",
    "<br>**Total Benefits** The sum of all benefits paid to City employees.\n",
    "<br>**Total Compensation** The sum of all salaries and benefits paid to City employees."
   ]
  },
  {
   "cell_type": "markdown",
   "metadata": {
    "id": "v_3QapC-QP0d"
   },
   "source": [
    "Read the data and answer the following questions to predict employee compensation"
   ]
  },
  {
   "cell_type": "markdown",
   "metadata": {
    "application/vnd.databricks.v1+cell": {
     "inputWidgets": {},
     "nuid": "ffb92bbb-6e3b-46ec-885e-bb4471538c0c",
     "showTitle": false,
     "title": ""
    },
    "id": "_nMVTM8BQP0d"
   },
   "source": [
    "## 1. Read the Data"
   ]
  },
  {
   "cell_type": "code",
   "execution_count": 111,
   "metadata": {
    "id": "PW5bNl6qRY4r"
   },
   "outputs": [
    {
     "data": {
      "text/html": [
       "\n",
       "            <div>\n",
       "                <p><b>SparkSession - in-memory</b></p>\n",
       "                \n",
       "        <div>\n",
       "            <p><b>SparkContext</b></p>\n",
       "\n",
       "            <p><a href=\"http://DESKTOP-34LM5IJ:4041\">Spark UI</a></p>\n",
       "\n",
       "            <dl>\n",
       "              <dt>Version</dt>\n",
       "                <dd><code>v3.5.1</code></dd>\n",
       "              <dt>Master</dt>\n",
       "                <dd><code>local[*]</code></dd>\n",
       "              <dt>AppName</dt>\n",
       "                <dd><code>Assignment</code></dd>\n",
       "            </dl>\n",
       "        </div>\n",
       "        \n",
       "            </div>\n",
       "        "
      ],
      "text/plain": [
       "<pyspark.sql.session.SparkSession at 0x2bb14e4d790>"
      ]
     },
     "execution_count": 111,
     "metadata": {},
     "output_type": "execute_result"
    }
   ],
   "source": [
    "import findspark\n",
    "from pyspark.sql import SparkSession\n",
    "from pyspark import SparkFiles\n",
    "spark = SparkSession.builder.appName('Assignment').getOrCreate()\n",
    "spark"
   ]
  },
  {
   "cell_type": "code",
   "execution_count": 112,
   "metadata": {
    "id": "oKyTtwSqRY7b"
   },
   "outputs": [],
   "source": [
    "df = spark.read.csv(\"Employee_Compensation.csv\",inferSchema=True, header= True)"
   ]
  },
  {
   "cell_type": "markdown",
   "metadata": {
    "id": "aWQ3YZi0RdP_"
   },
   "source": [
    "### 1.1 Display the number of rows and columns in the dataset"
   ]
  },
  {
   "cell_type": "code",
   "execution_count": 113,
   "metadata": {
    "id": "hdbFw58TRjQd"
   },
   "outputs": [
    {
     "name": "stdout",
     "output_type": "stream",
     "text": [
      "The number of rows and columns in the dataset: (291825, 22)\n"
     ]
    }
   ],
   "source": [
    "row = df.count()\n",
    "col = len(df.columns)\n",
    "print(f'The number of rows and columns in the dataset: {(row,col)}')"
   ]
  },
  {
   "cell_type": "markdown",
   "metadata": {
    "id": "cZYaCB4cRjjg"
   },
   "source": [
    "### 1.2 Check the datatype of the variables"
   ]
  },
  {
   "cell_type": "code",
   "execution_count": 115,
   "metadata": {
    "id": "jdPpc_mgRpva"
   },
   "outputs": [
    {
     "name": "stdout",
     "output_type": "stream",
     "text": [
      "root\n",
      " |-- Year Type: string (nullable = true)\n",
      " |-- Year: integer (nullable = true)\n",
      " |-- Organization Group Code: integer (nullable = true)\n",
      " |-- Organization Group: string (nullable = true)\n",
      " |-- Department Code: string (nullable = true)\n",
      " |-- Department: string (nullable = true)\n",
      " |-- Union Code: integer (nullable = true)\n",
      " |-- Union: string (nullable = true)\n",
      " |-- Job Family Code: string (nullable = true)\n",
      " |-- Job Family: string (nullable = true)\n",
      " |-- Job Code: string (nullable = true)\n",
      " |-- Job: string (nullable = true)\n",
      " |-- Employee Identifier: integer (nullable = true)\n",
      " |-- Salaries: double (nullable = true)\n",
      " |-- Overtime: double (nullable = true)\n",
      " |-- Other Salaries: double (nullable = true)\n",
      " |-- Total Salary: double (nullable = true)\n",
      " |-- Retirement: double (nullable = true)\n",
      " |-- Health/Dental: double (nullable = true)\n",
      " |-- Other Benefits: double (nullable = true)\n",
      " |-- Total Benefits: double (nullable = true)\n",
      " |-- Total Compensation: double (nullable = true)\n",
      "\n"
     ]
    }
   ],
   "source": [
    "df.printSchema()"
   ]
  },
  {
   "cell_type": "markdown",
   "metadata": {
    "id": "re0TB8PAQP0f"
   },
   "source": [
    "### 2. Convert the incorrect column type into its suitable column type. And drop the redundant features"
   ]
  },
  {
   "cell_type": "code",
   "execution_count": 118,
   "metadata": {
    "id": "173LNkp7QP0f"
   },
   "outputs": [],
   "source": [
    "from pyspark.sql.types import StringType\n",
    "df = df.withColumn('Year', df['Year'].cast(StringType()))"
   ]
  },
  {
   "cell_type": "code",
   "execution_count": 119,
   "metadata": {},
   "outputs": [],
   "source": [
    "df = df.drop(\"Organization Group Code\", \"Department Code\", \"Department\", \"Union Code\", \"Union\", \"Job Family Code\", \"Job Code\", \"Employee Identifier\")"
   ]
  },
  {
   "cell_type": "code",
   "execution_count": 120,
   "metadata": {},
   "outputs": [
    {
     "name": "stdout",
     "output_type": "stream",
     "text": [
      "root\n",
      " |-- Year Type: string (nullable = true)\n",
      " |-- Year: string (nullable = true)\n",
      " |-- Organization Group: string (nullable = true)\n",
      " |-- Job Family: string (nullable = true)\n",
      " |-- Job: string (nullable = true)\n",
      " |-- Salaries: double (nullable = true)\n",
      " |-- Overtime: double (nullable = true)\n",
      " |-- Other Salaries: double (nullable = true)\n",
      " |-- Total Salary: double (nullable = true)\n",
      " |-- Retirement: double (nullable = true)\n",
      " |-- Health/Dental: double (nullable = true)\n",
      " |-- Other Benefits: double (nullable = true)\n",
      " |-- Total Benefits: double (nullable = true)\n",
      " |-- Total Compensation: double (nullable = true)\n",
      "\n"
     ]
    }
   ],
   "source": [
    "df.printSchema()"
   ]
  },
  {
   "cell_type": "markdown",
   "metadata": {
    "application/vnd.databricks.v1+cell": {
     "inputWidgets": {},
     "nuid": "28154731-5e40-46a7-b9b3-9444c20c97e8",
     "showTitle": false,
     "title": ""
    },
    "id": "LYYQFu0dQP0g"
   },
   "source": [
    "### 3. Check basic statistics and perform necessary data preprocessing (Like removing negative amount)"
   ]
  },
  {
   "cell_type": "code",
   "execution_count": 75,
   "metadata": {
    "id": "DbrJKqGqQP0g"
   },
   "outputs": [],
   "source": [
    "#df.summary().show()"
   ]
  },
  {
   "cell_type": "code",
   "execution_count": 121,
   "metadata": {},
   "outputs": [],
   "source": [
    "#Removing rows having negative amounts\n",
    "from pyspark.sql.functions import *\n",
    "\n",
    "df1_filtered = df.select(\"Year Type\", \"Year\", \"Organization Group\", \"Job Family\", \"Job\", \"Salaries\", \"Overtime\", \"Other Salaries\", \"Total Salary\", \"Retirement\", \"Health/Dental\", \"Other Benefits\", \"Total Benefits\", \"Total Compensation\") .where((col(\"Salaries\") >= 0) & (col(\"Overtime\") >= 0) & (col(\"Other Salaries\") >= 0) & (col(\"Retirement\") >= 0) & (col(\"Health/Dental\") >= 0) & (col(\"Other Benefits\") >= 0) & (col(\"Total Compensation\") >= 0))"
   ]
  },
  {
   "cell_type": "code",
   "execution_count": 122,
   "metadata": {},
   "outputs": [
    {
     "data": {
      "text/plain": [
       "290391"
      ]
     },
     "execution_count": 122,
     "metadata": {},
     "output_type": "execute_result"
    }
   ],
   "source": [
    "df1_filtered.count()"
   ]
  },
  {
   "cell_type": "markdown",
   "metadata": {
    "application/vnd.databricks.v1+cell": {
     "inputWidgets": {},
     "nuid": "5b4a36b1-7f14-4a99-851e-492fd8ebb193",
     "showTitle": false,
     "title": ""
    },
    "id": "woI-NVRxQP0g"
   },
   "source": [
    "### 4. Perform Missing Value Analysis"
   ]
  },
  {
   "cell_type": "code",
   "execution_count": 123,
   "metadata": {
    "id": "T7kTJJ_QQP0g"
   },
   "outputs": [
    {
     "name": "stdout",
     "output_type": "stream",
     "text": [
      "+---------+----+------------------+----------+---+--------+--------+--------------+------------+----------+-------------+--------------+--------------+------------------+\n",
      "|Year Type|Year|Organization Group|Job Family|Job|Salaries|Overtime|Other Salaries|Total Salary|Retirement|Health/Dental|Other Benefits|Total Benefits|Total Compensation|\n",
      "+---------+----+------------------+----------+---+--------+--------+--------------+------------+----------+-------------+--------------+--------------+------------------+\n",
      "|        0|   0|                 0|        45|  0|       0|       0|             0|           0|         0|            0|             0|             0|                 0|\n",
      "+---------+----+------------------+----------+---+--------+--------+--------------+------------+----------+-------------+--------------+--------------+------------------+\n",
      "\n"
     ]
    }
   ],
   "source": [
    "from pyspark.sql.functions import *\n",
    "df1_filtered.select([count(when(isnull(c), c)).alias(c) for c in df.columns]).show()"
   ]
  },
  {
   "cell_type": "code",
   "execution_count": 124,
   "metadata": {},
   "outputs": [],
   "source": [
    "df2 = df1_filtered.dropna()"
   ]
  },
  {
   "cell_type": "code",
   "execution_count": 125,
   "metadata": {},
   "outputs": [
    {
     "data": {
      "text/plain": [
       "290346"
      ]
     },
     "execution_count": 125,
     "metadata": {},
     "output_type": "execute_result"
    }
   ],
   "source": [
    "df2.count()"
   ]
  },
  {
   "cell_type": "markdown",
   "metadata": {
    "application/vnd.databricks.v1+cell": {
     "inputWidgets": {},
     "nuid": "9cd43cd2-ed88-4edf-ba6f-7e7e6f2f65d1",
     "showTitle": false,
     "title": ""
    },
    "id": "K_KbHnjZQP0g"
   },
   "source": [
    "### 5. Exploratory Data Analysis"
   ]
  },
  {
   "cell_type": "markdown",
   "metadata": {
    "application/vnd.databricks.v1+cell": {
     "inputWidgets": {},
     "nuid": "44aa560c-5c6a-4188-a740-5e49cd147b26",
     "showTitle": false,
     "title": ""
    },
    "id": "5hea56hUQP0h"
   },
   "source": [
    "#### 5.1. Find top compensating organizations. Display using bar plot"
   ]
  },
  {
   "cell_type": "code",
   "execution_count": 126,
   "metadata": {},
   "outputs": [
    {
     "data": {
      "text/plain": [
       "<Axes: xlabel='Organization Group'>"
      ]
     },
     "execution_count": 126,
     "metadata": {},
     "output_type": "execute_result"
    },
    {
     "data": {
      "image/png": "[encoded data removed]",
      "text/plain": [
       "<Figure size 640x480 with 1 Axes>"
      ]
     },
     "metadata": {},
     "output_type": "display_data"
    }
   ],
   "source": [
    "import matplotlib.pyplot as plt    \n",
    "pyspark_df = df2.groupBy('Organization Group').count().orderBy('count', ascending=False)\n",
    "pandas_df = pyspark_df.limit(10).toPandas()\n",
    "pandas_df.plot.bar(x='Organization Group', y=None)"
   ]
  },
  {
   "cell_type": "markdown",
   "metadata": {
    "application/vnd.databricks.v1+cell": {
     "inputWidgets": {},
     "nuid": "c991e941-045b-4556-ba17-f9c5454fdf06",
     "showTitle": false,
     "title": ""
    },
    "id": "hijeAEfXQP0h"
   },
   "source": [
    "#### 5.2. Find top Compensating Jobs. Display using bar plot"
   ]
  },
  {
   "cell_type": "code",
   "execution_count": 127,
   "metadata": {
    "id": "AmdpJh5vQP0h"
   },
   "outputs": [
    {
     "data": {
      "text/plain": [
       "<Axes: xlabel='Job'>"
      ]
     },
     "execution_count": 127,
     "metadata": {},
     "output_type": "execute_result"
    },
    {
     "data": {
      "image/png": "[encoded data removed]",
      "text/plain": [
       "<Figure size 640x480 with 1 Axes>"
      ]
     },
     "metadata": {},
     "output_type": "display_data"
    }
   ],
   "source": [
    "import matplotlib.pyplot as plt    \n",
    "pyspark_df = df2.groupBy('Job').count().orderBy('count', ascending=False)\n",
    "pandas_df = pyspark_df.limit(10).toPandas()\n",
    "pandas_df.plot.bar(x='Job', y=None)"
   ]
  },
  {
   "cell_type": "markdown",
   "metadata": {
    "application/vnd.databricks.v1+cell": {
     "inputWidgets": {},
     "nuid": "1ffac626-b0f9-45f4-b780-c1c06edf6dd1",
     "showTitle": false,
     "title": ""
    },
    "id": "txsSQSvNQP0h"
   },
   "source": [
    "#### 5.3. Check Correlation of Target Variable with Other Independent Variables. Plot Heatmap"
   ]
  },
  {
   "cell_type": "code",
   "execution_count": 128,
   "metadata": {},
   "outputs": [],
   "source": [
    "p_df = df2.toPandas()"
   ]
  },
  {
   "cell_type": "code",
   "execution_count": 129,
   "metadata": {
    "id": "NFo9Q21lQP0h"
   },
   "outputs": [
    {
     "name": "stderr",
     "output_type": "stream",
     "text": [
      "C:\\Users\\91958\\AppData\\Local\\Temp\\ipykernel_23600\\2406210574.py:1: FutureWarning: The default value of numeric_only in DataFrame.corr is deprecated. In a future version, it will default to False. Select only valid columns or specify the value of numeric_only to silence this warning.\n",
      "  correlation_matrix = p_df.corr()\n"
     ]
    },
    {
     "data": {
      "text/html": [
       "<div>\n",
       "<style scoped>\n",
       "    .dataframe tbody tr th:only-of-type {\n",
       "        vertical-align: middle;\n",
       "    }\n",
       "\n",
       "    .dataframe tbody tr th {\n",
       "        vertical-align: top;\n",
       "    }\n",
       "\n",
       "    .dataframe thead th {\n",
       "        text-align: right;\n",
       "    }\n",
       "</style>\n",
       "<table border=\"1\" class=\"dataframe\">\n",
       "  <thead>\n",
       "    <tr style=\"text-align: right;\">\n",
       "      <th></th>\n",
       "      <th>Salaries</th>\n",
       "      <th>Overtime</th>\n",
       "      <th>Other Salaries</th>\n",
       "      <th>Total Salary</th>\n",
       "      <th>Retirement</th>\n",
       "      <th>Health/Dental</th>\n",
       "      <th>Other Benefits</th>\n",
       "      <th>Total Benefits</th>\n",
       "      <th>Total Compensation</th>\n",
       "    </tr>\n",
       "  </thead>\n",
       "  <tbody>\n",
       "    <tr>\n",
       "      <th>Salaries</th>\n",
       "      <td>1.000000</td>\n",
       "      <td>0.270228</td>\n",
       "      <td>0.330714</td>\n",
       "      <td>0.960523</td>\n",
       "      <td>0.953110</td>\n",
       "      <td>0.773081</td>\n",
       "      <td>0.695978</td>\n",
       "      <td>0.937921</td>\n",
       "      <td>0.972585</td>\n",
       "    </tr>\n",
       "    <tr>\n",
       "      <th>Overtime</th>\n",
       "      <td>0.270228</td>\n",
       "      <td>1.000000</td>\n",
       "      <td>0.353004</td>\n",
       "      <td>0.495378</td>\n",
       "      <td>0.312645</td>\n",
       "      <td>0.311475</td>\n",
       "      <td>0.060095</td>\n",
       "      <td>0.286528</td>\n",
       "      <td>0.452788</td>\n",
       "    </tr>\n",
       "    <tr>\n",
       "      <th>Other Salaries</th>\n",
       "      <td>0.330714</td>\n",
       "      <td>0.353004</td>\n",
       "      <td>1.000000</td>\n",
       "      <td>0.503876</td>\n",
       "      <td>0.347466</td>\n",
       "      <td>0.216159</td>\n",
       "      <td>0.041300</td>\n",
       "      <td>0.274845</td>\n",
       "      <td>0.456447</td>\n",
       "    </tr>\n",
       "    <tr>\n",
       "      <th>Total Salary</th>\n",
       "      <td>0.960523</td>\n",
       "      <td>0.495378</td>\n",
       "      <td>0.503876</td>\n",
       "      <td>1.000000</td>\n",
       "      <td>0.931921</td>\n",
       "      <td>0.758621</td>\n",
       "      <td>0.613673</td>\n",
       "      <td>0.902772</td>\n",
       "      <td>0.994316</td>\n",
       "    </tr>\n",
       "    <tr>\n",
       "      <th>Retirement</th>\n",
       "      <td>0.953110</td>\n",
       "      <td>0.312645</td>\n",
       "      <td>0.347466</td>\n",
       "      <td>0.931921</td>\n",
       "      <td>1.000000</td>\n",
       "      <td>0.793679</td>\n",
       "      <td>0.669936</td>\n",
       "      <td>0.965377</td>\n",
       "      <td>0.957334</td>\n",
       "    </tr>\n",
       "    <tr>\n",
       "      <th>Health/Dental</th>\n",
       "      <td>0.773081</td>\n",
       "      <td>0.311475</td>\n",
       "      <td>0.216159</td>\n",
       "      <td>0.758621</td>\n",
       "      <td>0.793679</td>\n",
       "      <td>1.000000</td>\n",
       "      <td>0.597070</td>\n",
       "      <td>0.888671</td>\n",
       "      <td>0.804758</td>\n",
       "    </tr>\n",
       "    <tr>\n",
       "      <th>Other Benefits</th>\n",
       "      <td>0.695978</td>\n",
       "      <td>0.060095</td>\n",
       "      <td>0.041300</td>\n",
       "      <td>0.613673</td>\n",
       "      <td>0.669936</td>\n",
       "      <td>0.597070</td>\n",
       "      <td>1.000000</td>\n",
       "      <td>0.790227</td>\n",
       "      <td>0.668657</td>\n",
       "    </tr>\n",
       "    <tr>\n",
       "      <th>Total Benefits</th>\n",
       "      <td>0.937921</td>\n",
       "      <td>0.286528</td>\n",
       "      <td>0.274845</td>\n",
       "      <td>0.902772</td>\n",
       "      <td>0.965377</td>\n",
       "      <td>0.888671</td>\n",
       "      <td>0.790227</td>\n",
       "      <td>1.000000</td>\n",
       "      <td>0.943435</td>\n",
       "    </tr>\n",
       "    <tr>\n",
       "      <th>Total Compensation</th>\n",
       "      <td>0.972585</td>\n",
       "      <td>0.452788</td>\n",
       "      <td>0.456447</td>\n",
       "      <td>0.994316</td>\n",
       "      <td>0.957334</td>\n",
       "      <td>0.804758</td>\n",
       "      <td>0.668657</td>\n",
       "      <td>0.943435</td>\n",
       "      <td>1.000000</td>\n",
       "    </tr>\n",
       "  </tbody>\n",
       "</table>\n",
       "</div>"
      ],
      "text/plain": [
       "                    Salaries  Overtime  Other Salaries  Total Salary  \\\n",
       "Salaries            1.000000  0.270228        0.330714      0.960523   \n",
       "Overtime            0.270228  1.000000        0.353004      0.495378   \n",
       "Other Salaries      0.330714  0.353004        1.000000      0.503876   \n",
       "Total Salary        0.960523  0.495378        0.503876      1.000000   \n",
       "Retirement          0.953110  0.312645        0.347466      0.931921   \n",
       "Health/Dental       0.773081  0.311475        0.216159      0.758621   \n",
       "Other Benefits      0.695978  0.060095        0.041300      0.613673   \n",
       "Total Benefits      0.937921  0.286528        0.274845      0.902772   \n",
       "Total Compensation  0.972585  0.452788        0.456447      0.994316   \n",
       "\n",
       "                    Retirement  Health/Dental  Other Benefits  Total Benefits  \\\n",
       "Salaries              0.953110       0.773081        0.695978        0.937921   \n",
       "Overtime              0.312645       0.311475        0.060095        0.286528   \n",
       "Other Salaries        0.347466       0.216159        0.041300        0.274845   \n",
       "Total Salary          0.931921       0.758621        0.613673        0.902772   \n",
       "Retirement            1.000000       0.793679        0.669936        0.965377   \n",
       "Health/Dental         0.793679       1.000000        0.597070        0.888671   \n",
       "Other Benefits        0.669936       0.597070        1.000000        0.790227   \n",
       "Total Benefits        0.965377       0.888671        0.790227        1.000000   \n",
       "Total Compensation    0.957334       0.804758        0.668657        0.943435   \n",
       "\n",
       "                    Total Compensation  \n",
       "Salaries                      0.972585  \n",
       "Overtime                      0.452788  \n",
       "Other Salaries                0.456447  \n",
       "Total Salary                  0.994316  \n",
       "Retirement                    0.957334  \n",
       "Health/Dental                 0.804758  \n",
       "Other Benefits                0.668657  \n",
       "Total Benefits                0.943435  \n",
       "Total Compensation            1.000000  "
      ]
     },
     "execution_count": 129,
     "metadata": {},
     "output_type": "execute_result"
    }
   ],
   "source": [
    "correlation_matrix = p_df.corr()\n",
    "correlation_matrix"
   ]
  },
  {
   "cell_type": "code",
   "execution_count": 130,
   "metadata": {},
   "outputs": [
    {
     "data": {
      "image/png": "[encoded data removed]",
      "text/plain": [
       "<Figure size 600x400 with 2 Axes>"
      ]
     },
     "metadata": {},
     "output_type": "display_data"
    }
   ],
   "source": [
    "import matplotlib.pyplot as plt\n",
    "import seaborn as sns\n",
    "\n",
    "plt.figure(figsize = (6,4))\n",
    "sns.heatmap(correlation_matrix, cmap = 'coolwarm', annot=True)\n",
    "plt.show()"
   ]
  },
  {
   "cell_type": "markdown",
   "metadata": {
    "application/vnd.databricks.v1+cell": {
     "inputWidgets": {},
     "nuid": "9f43beda-e255-4431-a35a-bb05a1f1e670",
     "showTitle": false,
     "title": ""
    },
    "id": "NiZX_Be8QP0h"
   },
   "source": [
    "### 6. Perform necessary data pre-processing and divide the data into train and test set"
   ]
  },
  {
   "cell_type": "markdown",
   "metadata": {
    "id": "6p5egOcB-VnG"
   },
   "source": [
    "### 6.1 Categorise the attributes into its type (Use one hot encoding wherever required)"
   ]
  },
  {
   "cell_type": "code",
   "execution_count": 131,
   "metadata": {
    "id": "O5SYln1OQP0i"
   },
   "outputs": [
    {
     "name": "stdout",
     "output_type": "stream",
     "text": [
      "+---------+----+--------------------+--------------------+--------------------+---------+--------+--------------+------------+----------+-------------+--------------+--------------+------------------+----------------+------------+--------------------------+------------------+-----------+\n",
      "|Year Type|Year|  Organization Group|          Job Family|                 Job| Salaries|Overtime|Other Salaries|Total Salary|Retirement|Health/Dental|Other Benefits|Total Benefits|Total Compensation|YearType_indexed|Year_indexed|OrganizationGroup__indexed|Job Family_indexed|Job_indexed|\n",
      "+---------+----+--------------------+--------------------+--------------------+---------+--------+--------------+------------+----------+-------------+--------------+--------------+------------------+----------------+------------+--------------------------+------------------+-----------+\n",
      "|   Fiscal|2016|   Public Protection|       Legal & Court|Attorney (Civil/C...|114473.16|     0.0|        1500.0|   115973.16|  21025.98|      13068.8|       9368.71|      43463.49|         159436.65|             0.0|         3.0|                       2.0|              16.0|       14.0|\n",
      "| Calendar|2013|Culture & Recreation|Budget, Admn & St...|Senior Management...| 84077.11|     0.0|           0.0|    84077.11|   16587.3|     12457.73|       6931.91|      35976.94|         120054.05|             1.0|         2.0|                       4.0|              14.0|      135.0|\n",
      "| Calendar|2015|    Community Health|      Human Services|  Eligibility Worker|  9980.17|     0.0|        798.43|     10778.6|       0.0|      2254.93|        835.11|       3090.04|          13868.64|             1.0|         0.0|                       1.0|               5.0|       20.0|\n",
      "|   Fiscal|2015|    Community Health|    Medical & Dental|         Dental Aide|  2873.41|     0.0|           0.0|     2873.41|       0.0|       622.63|        222.46|        845.09|            3718.5|             0.0|         0.0|                       1.0|              29.0|      333.0|\n",
      "|   Fiscal|2014|Culture & Recreation|          Recreation|   Recreation Leader|  6701.85|     0.0|         176.7|     6878.55|       0.0|      2711.66|        538.43|       3250.09|          10128.64|             0.0|         1.0|                       4.0|              11.0|        8.0|\n",
      "|   Fiscal|2013|Public Works, Tra...|Sub-Professional ...|Stdntdsgntrain1, ...| 45321.18|     0.0|           0.0|    45321.18|   9386.03|      11780.6|       3486.34|      24652.97|          69974.15|             0.0|         2.0|                       0.0|              23.0|       38.0|\n",
      "|   Fiscal|2015|Culture & Recreation|             Library|   Library Assistant|  28305.5|     0.0|       1193.14|    29498.64|   6616.52|      5793.48|       2430.74|      14840.74|          44339.38|             0.0|         0.0|                       4.0|              19.0|       83.0|\n",
      "|   Fiscal|2014|General Administr...|Appraisal & Taxation|Real Property App...| 39938.09|     0.0|         800.0|    40738.09|   8685.34|      7269.02|       3277.52|      19231.88|          59969.97|             0.0|         1.0|                       5.0|              34.0|      208.0|\n",
      "| Calendar|2015|   Public Protection|     Police Services|Lieutenant (Polic...|  23112.0| 2312.73|      20944.16|    46368.89|   4183.12|      1911.46|         68.84|       6163.42|          52532.31|             1.0|         0.0|                       2.0|               2.0|      411.0|\n",
      "|   Fiscal|2014|   Public Protection|Correction & Dete...|      Deputy Sheriff| 89101.22| 6856.77|       5563.78|   101521.77|  17596.33|     12512.55|       1627.91|      31736.79|         133258.56|             0.0|         1.0|                       2.0|              13.0|       11.0|\n",
      "|   Fiscal|2015|Public Works, Tra...| Public Service Aide|Publ Svc Aide-Ass...|  7091.33|     0.0|           0.0|     7091.33|       0.0|      2361.82|        549.01|       2910.83|          10002.16|             0.0|         0.0|                       0.0|               4.0|       34.0|\n",
      "|   Fiscal|2013|Public Works, Tra...|Public Safety Ins...|    Street Inspector| 57467.12|  355.65|           0.0|    57822.77|  11901.38|     11933.98|       4691.34|       28526.7|          86349.47|             0.0|         2.0|                       0.0|              41.0|      292.0|\n",
      "| Calendar|2015|Culture & Recreation|Agriculture & Hor...|Park Section Supe...|  80357.0| 5612.97|           7.9|    85977.87|  16562.14|      12424.5|       7091.69|      36078.33|          122056.2|             1.0|         0.0|                       4.0|              25.0|      205.0|\n",
      "|   Fiscal|2013|Public Works, Tra...|      Street Transit|    Transit Operator| 64170.89|13128.97|       2677.81|    79977.67|  17109.68|     13379.17|       6204.01|      36692.86|         116670.53|             0.0|         2.0|                       0.0|               1.0|        0.0|\n",
      "|   Fiscal|2016|Human Welfare & N...|           Personnel|   Personnel Analyst| 83038.01|     0.0|         200.0|    83238.01|  15490.62|      13068.8|       6525.06|      35084.48|         118322.49|             0.0|         3.0|                       3.0|              21.0|       76.0|\n",
      "| Calendar|2014|General Administr...|Computer Operatns...|Media/Security Sy...| 92530.82|     0.0|      13412.58|    105943.4|  20224.21|     13054.94|       8450.17|      41729.32|         147672.72|             1.0|         1.0|                       5.0|              39.0|      649.0|\n",
      "| Calendar|2015|Public Works, Tra...|      Street Transit|    Transit Operator| 44381.77|11166.58|       2694.49|    58242.84|   13602.2|       8826.1|        4423.7|       26852.0|          85094.84|             1.0|         0.0|                       0.0|               1.0|        0.0|\n",
      "|   Fiscal|2014|Public Works, Tra...|      Street Transit|Station Agent, Mu...|  78639.3|20332.03|       7821.87|    106793.2|  17683.84|     12512.54|       8707.07|      38903.45|         145696.65|             0.0|         1.0|                       0.0|               1.0|      146.0|\n",
      "|   Fiscal|2014|   Public Protection|       Legal & Court|Attorney (Civil/C...|176267.41|     0.0|        1250.0|   177517.41|  36959.07|     12512.55|      10479.18|       59950.8|         237468.21|             0.0|         1.0|                       2.0|              16.0|       14.0|\n",
      "|   Fiscal|2015|Public Works, Tra...|    Journeyman Trade|Water Service Ins...|100655.41| 8240.09|      16911.85|   125807.35|  24354.06|     12500.56|       9962.73|      46817.35|          172624.7|             0.0|         0.0|                       0.0|               3.0|      249.0|\n",
      "+---------+----+--------------------+--------------------+--------------------+---------+--------+--------------+------------+----------+-------------+--------------+--------------+------------------+----------------+------------+--------------------------+------------------+-----------+\n",
      "only showing top 20 rows\n",
      "\n"
     ]
    }
   ],
   "source": [
    "from pyspark.ml.feature import StringIndexer\n",
    "\n",
    "indexer = StringIndexer(inputCols=[\"Year Type\", \"Year\", \"Organization Group\", \"Job Family\", \"Job\"], outputCols=[\"YearType_indexed\", \"Year_indexed\", \"OrganizationGroup__indexed\", \"Job Family_indexed\", \"Job_indexed\"])\n",
    "indexed = indexer.fit(df2).transform(df2)\n",
    "indexed.show()\n"
   ]
  },
  {
   "cell_type": "code",
   "execution_count": 132,
   "metadata": {},
   "outputs": [
    {
     "name": "stdout",
     "output_type": "stream",
     "text": [
      "root\n",
      " |-- Year Type: string (nullable = true)\n",
      " |-- Year: string (nullable = true)\n",
      " |-- Organization Group: string (nullable = true)\n",
      " |-- Job Family: string (nullable = true)\n",
      " |-- Job: string (nullable = true)\n",
      " |-- Salaries: double (nullable = true)\n",
      " |-- Overtime: double (nullable = true)\n",
      " |-- Other Salaries: double (nullable = true)\n",
      " |-- Total Salary: double (nullable = true)\n",
      " |-- Retirement: double (nullable = true)\n",
      " |-- Health/Dental: double (nullable = true)\n",
      " |-- Other Benefits: double (nullable = true)\n",
      " |-- Total Benefits: double (nullable = true)\n",
      " |-- Total Compensation: double (nullable = true)\n",
      " |-- YearType_indexed: double (nullable = false)\n",
      " |-- Year_indexed: double (nullable = false)\n",
      " |-- OrganizationGroup__indexed: double (nullable = false)\n",
      " |-- Job Family_indexed: double (nullable = false)\n",
      " |-- Job_indexed: double (nullable = false)\n",
      "\n"
     ]
    }
   ],
   "source": [
    "indexed.printSchema()"
   ]
  },
  {
   "cell_type": "code",
   "execution_count": 133,
   "metadata": {},
   "outputs": [
    {
     "data": {
      "text/plain": [
       "['Year Type',\n",
       " 'Year',\n",
       " 'Organization Group',\n",
       " 'Job Family',\n",
       " 'Job',\n",
       " 'Salaries',\n",
       " 'Overtime',\n",
       " 'Other Salaries',\n",
       " 'Total Salary',\n",
       " 'Retirement',\n",
       " 'Health/Dental',\n",
       " 'Other Benefits',\n",
       " 'Total Benefits',\n",
       " 'Total Compensation',\n",
       " 'YearType_indexed',\n",
       " 'Year_indexed',\n",
       " 'OrganizationGroup__indexed',\n",
       " 'Job Family_indexed',\n",
       " 'Job_indexed',\n",
       " 'YearType_Vec',\n",
       " 'Year_Vec',\n",
       " 'OrganizationGroup_Vec',\n",
       " 'Job Family_Vec',\n",
       " 'Job_Vec']"
      ]
     },
     "execution_count": 133,
     "metadata": {},
     "output_type": "execute_result"
    }
   ],
   "source": [
    "from pyspark.ml.feature import OneHotEncoder\n",
    "encoder = OneHotEncoder(inputCols=[\"YearType_indexed\", \"Year_indexed\", \"OrganizationGroup__indexed\", \"Job Family_indexed\", \"Job_indexed\"],outputCols=[\"YearType_Vec\", \"Year_Vec\", \"OrganizationGroup_Vec\", \"Job Family_Vec\", \"Job_Vec\"])\n",
    "model = encoder.fit(indexed)\n",
    "encoded = model.transform(indexed)\n",
    "encoded.columns"
   ]
  },
  {
   "cell_type": "code",
   "execution_count": 134,
   "metadata": {},
   "outputs": [],
   "source": [
    "from pyspark.ml.feature import VectorAssembler\n",
    "featureassembler = VectorAssembler(inputCols= [\"Salaries\", \"Overtime\", \"Other Salaries\", \"Total Salary\", \"Retirement\", \"Health/Dental\", \"Other Benefits\", \"Total Benefits\", \"YearType_Vec\", \"Year_Vec\", \"OrganizationGroup_Vec\", \"Job Family_Vec\", \"Job_Vec\"], outputCol= \"Independent Features\")\n",
    "output = featureassembler.transform(encoded)"
   ]
  },
  {
   "cell_type": "code",
   "execution_count": 135,
   "metadata": {},
   "outputs": [
    {
     "name": "stdout",
     "output_type": "stream",
     "text": [
      "+--------------------+\n",
      "|Independent Features|\n",
      "+--------------------+\n",
      "|(1206,[0,2,3,4,5,...|\n",
      "|(1206,[0,3,4,5,6,...|\n",
      "|(1206,[0,2,3,5,6,...|\n",
      "|(1206,[0,3,5,6,7,...|\n",
      "|(1206,[0,2,3,5,6,...|\n",
      "|(1206,[0,3,4,5,6,...|\n",
      "|(1206,[0,2,3,4,5,...|\n",
      "|(1206,[0,2,3,4,5,...|\n",
      "|(1206,[0,1,2,3,4,...|\n",
      "|(1206,[0,1,2,3,4,...|\n",
      "|(1206,[0,3,5,6,7,...|\n",
      "|(1206,[0,1,3,4,5,...|\n",
      "|(1206,[0,1,2,3,4,...|\n",
      "|(1206,[0,1,2,3,4,...|\n",
      "|(1206,[0,2,3,4,5,...|\n",
      "|(1206,[0,2,3,4,5,...|\n",
      "|(1206,[0,1,2,3,4,...|\n",
      "|(1206,[0,1,2,3,4,...|\n",
      "|(1206,[0,2,3,4,5,...|\n",
      "|(1206,[0,1,2,3,4,...|\n",
      "+--------------------+\n",
      "only showing top 20 rows\n",
      "\n"
     ]
    }
   ],
   "source": [
    "output.select('Independent Features').show()"
   ]
  },
  {
   "cell_type": "code",
   "execution_count": 136,
   "metadata": {},
   "outputs": [
    {
     "name": "stdout",
     "output_type": "stream",
     "text": [
      "+---------+----+--------------------+--------------------+--------------------+---------+--------+--------------+------------+----------+-------------+--------------+--------------+------------------+----------------+------------+--------------------------+------------------+-----------+-------------+-------------+---------------------+---------------+------------------+--------------------+\n",
      "|Year Type|Year|  Organization Group|          Job Family|                 Job| Salaries|Overtime|Other Salaries|Total Salary|Retirement|Health/Dental|Other Benefits|Total Benefits|Total Compensation|YearType_indexed|Year_indexed|OrganizationGroup__indexed|Job Family_indexed|Job_indexed| YearType_Vec|     Year_Vec|OrganizationGroup_Vec| Job Family_Vec|           Job_Vec|Independent Features|\n",
      "+---------+----+--------------------+--------------------+--------------------+---------+--------+--------------+------------+----------+-------------+--------------+--------------+------------------+----------------+------------+--------------------------+------------------+-----------+-------------+-------------+---------------------+---------------+------------------+--------------------+\n",
      "|   Fiscal|2016|   Public Protection|       Legal & Court|Attorney (Civil/C...|114473.16|     0.0|        1500.0|   115973.16|  21025.98|      13068.8|       9368.71|      43463.49|         159436.65|             0.0|         3.0|                       2.0|              16.0|       14.0|(1,[0],[1.0])|    (3,[],[])|        (6,[2],[1.0])|(54,[16],[1.0])| (1134,[14],[1.0])|(1206,[0,2,3,4,5,...|\n",
      "| Calendar|2013|Culture & Recreation|Budget, Admn & St...|Senior Management...| 84077.11|     0.0|           0.0|    84077.11|   16587.3|     12457.73|       6931.91|      35976.94|         120054.05|             1.0|         2.0|                       4.0|              14.0|      135.0|    (1,[],[])|(3,[2],[1.0])|        (6,[4],[1.0])|(54,[14],[1.0])|(1134,[135],[1.0])|(1206,[0,3,4,5,6,...|\n",
      "| Calendar|2015|    Community Health|      Human Services|  Eligibility Worker|  9980.17|     0.0|        798.43|     10778.6|       0.0|      2254.93|        835.11|       3090.04|          13868.64|             1.0|         0.0|                       1.0|               5.0|       20.0|    (1,[],[])|(3,[0],[1.0])|        (6,[1],[1.0])| (54,[5],[1.0])| (1134,[20],[1.0])|(1206,[0,2,3,5,6,...|\n",
      "|   Fiscal|2015|    Community Health|    Medical & Dental|         Dental Aide|  2873.41|     0.0|           0.0|     2873.41|       0.0|       622.63|        222.46|        845.09|            3718.5|             0.0|         0.0|                       1.0|              29.0|      333.0|(1,[0],[1.0])|(3,[0],[1.0])|        (6,[1],[1.0])|(54,[29],[1.0])|(1134,[333],[1.0])|(1206,[0,3,5,6,7,...|\n",
      "|   Fiscal|2014|Culture & Recreation|          Recreation|   Recreation Leader|  6701.85|     0.0|         176.7|     6878.55|       0.0|      2711.66|        538.43|       3250.09|          10128.64|             0.0|         1.0|                       4.0|              11.0|        8.0|(1,[0],[1.0])|(3,[1],[1.0])|        (6,[4],[1.0])|(54,[11],[1.0])|  (1134,[8],[1.0])|(1206,[0,2,3,5,6,...|\n",
      "|   Fiscal|2013|Public Works, Tra...|Sub-Professional ...|Stdntdsgntrain1, ...| 45321.18|     0.0|           0.0|    45321.18|   9386.03|      11780.6|       3486.34|      24652.97|          69974.15|             0.0|         2.0|                       0.0|              23.0|       38.0|(1,[0],[1.0])|(3,[2],[1.0])|        (6,[0],[1.0])|(54,[23],[1.0])| (1134,[38],[1.0])|(1206,[0,3,4,5,6,...|\n",
      "|   Fiscal|2015|Culture & Recreation|             Library|   Library Assistant|  28305.5|     0.0|       1193.14|    29498.64|   6616.52|      5793.48|       2430.74|      14840.74|          44339.38|             0.0|         0.0|                       4.0|              19.0|       83.0|(1,[0],[1.0])|(3,[0],[1.0])|        (6,[4],[1.0])|(54,[19],[1.0])| (1134,[83],[1.0])|(1206,[0,2,3,4,5,...|\n",
      "|   Fiscal|2014|General Administr...|Appraisal & Taxation|Real Property App...| 39938.09|     0.0|         800.0|    40738.09|   8685.34|      7269.02|       3277.52|      19231.88|          59969.97|             0.0|         1.0|                       5.0|              34.0|      208.0|(1,[0],[1.0])|(3,[1],[1.0])|        (6,[5],[1.0])|(54,[34],[1.0])|(1134,[208],[1.0])|(1206,[0,2,3,4,5,...|\n",
      "| Calendar|2015|   Public Protection|     Police Services|Lieutenant (Polic...|  23112.0| 2312.73|      20944.16|    46368.89|   4183.12|      1911.46|         68.84|       6163.42|          52532.31|             1.0|         0.0|                       2.0|               2.0|      411.0|    (1,[],[])|(3,[0],[1.0])|        (6,[2],[1.0])| (54,[2],[1.0])|(1134,[411],[1.0])|(1206,[0,1,2,3,4,...|\n",
      "|   Fiscal|2014|   Public Protection|Correction & Dete...|      Deputy Sheriff| 89101.22| 6856.77|       5563.78|   101521.77|  17596.33|     12512.55|       1627.91|      31736.79|         133258.56|             0.0|         1.0|                       2.0|              13.0|       11.0|(1,[0],[1.0])|(3,[1],[1.0])|        (6,[2],[1.0])|(54,[13],[1.0])| (1134,[11],[1.0])|(1206,[0,1,2,3,4,...|\n",
      "|   Fiscal|2015|Public Works, Tra...| Public Service Aide|Publ Svc Aide-Ass...|  7091.33|     0.0|           0.0|     7091.33|       0.0|      2361.82|        549.01|       2910.83|          10002.16|             0.0|         0.0|                       0.0|               4.0|       34.0|(1,[0],[1.0])|(3,[0],[1.0])|        (6,[0],[1.0])| (54,[4],[1.0])| (1134,[34],[1.0])|(1206,[0,3,5,6,7,...|\n",
      "|   Fiscal|2013|Public Works, Tra...|Public Safety Ins...|    Street Inspector| 57467.12|  355.65|           0.0|    57822.77|  11901.38|     11933.98|       4691.34|       28526.7|          86349.47|             0.0|         2.0|                       0.0|              41.0|      292.0|(1,[0],[1.0])|(3,[2],[1.0])|        (6,[0],[1.0])|(54,[41],[1.0])|(1134,[292],[1.0])|(1206,[0,1,3,4,5,...|\n",
      "| Calendar|2015|Culture & Recreation|Agriculture & Hor...|Park Section Supe...|  80357.0| 5612.97|           7.9|    85977.87|  16562.14|      12424.5|       7091.69|      36078.33|          122056.2|             1.0|         0.0|                       4.0|              25.0|      205.0|    (1,[],[])|(3,[0],[1.0])|        (6,[4],[1.0])|(54,[25],[1.0])|(1134,[205],[1.0])|(1206,[0,1,2,3,4,...|\n",
      "|   Fiscal|2013|Public Works, Tra...|      Street Transit|    Transit Operator| 64170.89|13128.97|       2677.81|    79977.67|  17109.68|     13379.17|       6204.01|      36692.86|         116670.53|             0.0|         2.0|                       0.0|               1.0|        0.0|(1,[0],[1.0])|(3,[2],[1.0])|        (6,[0],[1.0])| (54,[1],[1.0])|  (1134,[0],[1.0])|(1206,[0,1,2,3,4,...|\n",
      "|   Fiscal|2016|Human Welfare & N...|           Personnel|   Personnel Analyst| 83038.01|     0.0|         200.0|    83238.01|  15490.62|      13068.8|       6525.06|      35084.48|         118322.49|             0.0|         3.0|                       3.0|              21.0|       76.0|(1,[0],[1.0])|    (3,[],[])|        (6,[3],[1.0])|(54,[21],[1.0])| (1134,[76],[1.0])|(1206,[0,2,3,4,5,...|\n",
      "| Calendar|2014|General Administr...|Computer Operatns...|Media/Security Sy...| 92530.82|     0.0|      13412.58|    105943.4|  20224.21|     13054.94|       8450.17|      41729.32|         147672.72|             1.0|         1.0|                       5.0|              39.0|      649.0|    (1,[],[])|(3,[1],[1.0])|        (6,[5],[1.0])|(54,[39],[1.0])|(1134,[649],[1.0])|(1206,[0,2,3,4,5,...|\n",
      "| Calendar|2015|Public Works, Tra...|      Street Transit|    Transit Operator| 44381.77|11166.58|       2694.49|    58242.84|   13602.2|       8826.1|        4423.7|       26852.0|          85094.84|             1.0|         0.0|                       0.0|               1.0|        0.0|    (1,[],[])|(3,[0],[1.0])|        (6,[0],[1.0])| (54,[1],[1.0])|  (1134,[0],[1.0])|(1206,[0,1,2,3,4,...|\n",
      "|   Fiscal|2014|Public Works, Tra...|      Street Transit|Station Agent, Mu...|  78639.3|20332.03|       7821.87|    106793.2|  17683.84|     12512.54|       8707.07|      38903.45|         145696.65|             0.0|         1.0|                       0.0|               1.0|      146.0|(1,[0],[1.0])|(3,[1],[1.0])|        (6,[0],[1.0])| (54,[1],[1.0])|(1134,[146],[1.0])|(1206,[0,1,2,3,4,...|\n",
      "|   Fiscal|2014|   Public Protection|       Legal & Court|Attorney (Civil/C...|176267.41|     0.0|        1250.0|   177517.41|  36959.07|     12512.55|      10479.18|       59950.8|         237468.21|             0.0|         1.0|                       2.0|              16.0|       14.0|(1,[0],[1.0])|(3,[1],[1.0])|        (6,[2],[1.0])|(54,[16],[1.0])| (1134,[14],[1.0])|(1206,[0,2,3,4,5,...|\n",
      "|   Fiscal|2015|Public Works, Tra...|    Journeyman Trade|Water Service Ins...|100655.41| 8240.09|      16911.85|   125807.35|  24354.06|     12500.56|       9962.73|      46817.35|          172624.7|             0.0|         0.0|                       0.0|               3.0|      249.0|(1,[0],[1.0])|(3,[0],[1.0])|        (6,[0],[1.0])| (54,[3],[1.0])|(1134,[249],[1.0])|(1206,[0,1,2,3,4,...|\n",
      "+---------+----+--------------------+--------------------+--------------------+---------+--------+--------------+------------+----------+-------------+--------------+--------------+------------------+----------------+------------+--------------------------+------------------+-----------+-------------+-------------+---------------------+---------------+------------------+--------------------+\n",
      "only showing top 20 rows\n",
      "\n"
     ]
    }
   ],
   "source": [
    "output.show()"
   ]
  },
  {
   "cell_type": "code",
   "execution_count": 137,
   "metadata": {},
   "outputs": [],
   "source": [
    "finalized_data = output.select(\"Independent Features\",\"Total Compensation\")"
   ]
  },
  {
   "cell_type": "code",
   "execution_count": 138,
   "metadata": {},
   "outputs": [
    {
     "name": "stdout",
     "output_type": "stream",
     "text": [
      "+--------------------+------------------+\n",
      "|Independent Features|Total Compensation|\n",
      "+--------------------+------------------+\n",
      "|(1206,[0,2,3,4,5,...|         159436.65|\n",
      "|(1206,[0,3,4,5,6,...|         120054.05|\n",
      "|(1206,[0,2,3,5,6,...|          13868.64|\n",
      "|(1206,[0,3,5,6,7,...|            3718.5|\n",
      "|(1206,[0,2,3,5,6,...|          10128.64|\n",
      "|(1206,[0,3,4,5,6,...|          69974.15|\n",
      "|(1206,[0,2,3,4,5,...|          44339.38|\n",
      "|(1206,[0,2,3,4,5,...|          59969.97|\n",
      "|(1206,[0,1,2,3,4,...|          52532.31|\n",
      "|(1206,[0,1,2,3,4,...|         133258.56|\n",
      "|(1206,[0,3,5,6,7,...|          10002.16|\n",
      "|(1206,[0,1,3,4,5,...|          86349.47|\n",
      "|(1206,[0,1,2,3,4,...|          122056.2|\n",
      "|(1206,[0,1,2,3,4,...|         116670.53|\n",
      "|(1206,[0,2,3,4,5,...|         118322.49|\n",
      "|(1206,[0,2,3,4,5,...|         147672.72|\n",
      "|(1206,[0,1,2,3,4,...|          85094.84|\n",
      "|(1206,[0,1,2,3,4,...|         145696.65|\n",
      "|(1206,[0,2,3,4,5,...|         237468.21|\n",
      "|(1206,[0,1,2,3,4,...|          172624.7|\n",
      "+--------------------+------------------+\n",
      "only showing top 20 rows\n",
      "\n"
     ]
    }
   ],
   "source": [
    "finalized_data.show()"
   ]
  },
  {
   "cell_type": "markdown",
   "metadata": {
    "id": "rrGRAFAG-YLX"
   },
   "source": [
    "### 6.2 Split the data into train and test set"
   ]
  },
  {
   "cell_type": "code",
   "execution_count": 139,
   "metadata": {
    "id": "K7phDDJU-sav"
   },
   "outputs": [],
   "source": [
    "train_data, test_data = finalized_data.randomSplit([0.75, 0.25])"
   ]
  },
  {
   "cell_type": "markdown",
   "metadata": {
    "application/vnd.databricks.v1+cell": {
     "inputWidgets": {},
     "nuid": "114ba72f-16e5-4657-bbaf-969596890cca",
     "showTitle": false,
     "title": ""
    },
    "id": "XSZnLJe5QP0i"
   },
   "source": [
    "### 7. Fit Linear Regression model on the data and check its performance"
   ]
  },
  {
   "cell_type": "code",
   "execution_count": 140,
   "metadata": {
    "id": "bjXSlK7OQP0i"
   },
   "outputs": [],
   "source": [
    "from pyspark.ml.regression import LinearRegression\n",
    "#train_data, test_data = finalized_data.randomSplit([0.75, 0.25])\n",
    "regressor = LinearRegression(featuresCol='Independent Features', labelCol='Total Compensation')\n",
    "regressor = regressor.fit(train_data)"
   ]
  },
  {
   "cell_type": "code",
   "execution_count": 141,
   "metadata": {},
   "outputs": [],
   "source": [
    "pred_results = regressor.evaluate(test_data)"
   ]
  },
  {
   "cell_type": "code",
   "execution_count": 142,
   "metadata": {},
   "outputs": [
    {
     "name": "stdout",
     "output_type": "stream",
     "text": [
      "+--------------------+------------------+------------------+\n",
      "|Independent Features|Total Compensation|        prediction|\n",
      "+--------------------+------------------+------------------+\n",
      "|(1206,[0,1,2,3,4,...|           5334.44| 5333.596336374366|\n",
      "|(1206,[0,1,2,3,4,...|          12397.69|12396.907737948586|\n",
      "|(1206,[0,1,2,3,4,...|           13068.1|13067.322747203998|\n",
      "|(1206,[0,1,2,3,4,...|           12864.2| 12863.42323855341|\n",
      "|(1206,[0,1,2,3,4,...|          15328.04|15327.274311956831|\n",
      "|(1206,[0,1,2,3,4,...|          20108.11|20107.381325522216|\n",
      "|(1206,[0,1,2,3,4,...|          19849.71| 19848.98180687366|\n",
      "|(1206,[0,1,2,3,4,...|          25881.16|25880.479670321078|\n",
      "|(1206,[0,1,2,3,4,...|          30858.31|  30857.6704778879|\n",
      "|(1206,[0,1,2,3,4,...|          30876.56|30875.919958962597|\n",
      "|(1206,[0,1,2,3,4,...|          31534.22| 31533.59991465198|\n",
      "|(1206,[0,1,2,3,4,...|          31157.11| 31156.47565455304|\n",
      "|(1206,[0,1,2,3,4,...|          32050.78|32050.151028857497|\n",
      "|(1206,[0,1,2,3,4,...|          35903.82| 35903.22934672388|\n",
      "|(1206,[0,1,2,3,4,...|          43625.15|43624.630757920626|\n",
      "|(1206,[0,1,2,3,4,...|          47700.56| 47700.05487115152|\n",
      "|(1206,[0,1,2,3,4,...|          53937.14| 53936.68696556315|\n",
      "|(1206,[0,1,2,3,4,...|          51028.54| 51028.03332302376|\n",
      "|(1206,[0,1,2,3,4,...|          62898.56|62898.035923524454|\n",
      "|(1206,[0,1,2,3,4,...|          72901.79| 72901.49799591376|\n",
      "+--------------------+------------------+------------------+\n",
      "only showing top 20 rows\n",
      "\n"
     ]
    }
   ],
   "source": [
    "pred_results.predictions.show()"
   ]
  },
  {
   "cell_type": "code",
   "execution_count": 143,
   "metadata": {},
   "outputs": [
    {
     "data": {
      "text/plain": [
       "(0.9999999991436059, 0.3888621225147185, 3.9089282653240165)"
      ]
     },
     "execution_count": 143,
     "metadata": {},
     "output_type": "execute_result"
    }
   ],
   "source": [
    "pred_results.r2, pred_results.meanAbsoluteError, pred_results.meanSquaredError"
   ]
  },
  {
   "cell_type": "markdown",
   "metadata": {
    "application/vnd.databricks.v1+cell": {
     "inputWidgets": {},
     "nuid": "51e30540-ef2e-4239-b323-ba406674e87b",
     "showTitle": false,
     "title": ""
    },
    "id": "yb53Fy9yQP0i"
   },
   "source": [
    "### 8. Fit Decision Tree Regression model on the data and check its performance (Optional)"
   ]
  },
  {
   "cell_type": "code",
   "execution_count": null,
   "metadata": {
    "collapsed": true,
    "id": "XVl80s2AQP0i"
   },
   "outputs": [],
   "source": [
    "from pyspark.ml.regression import DecisionTreeRegressor\n",
    "dt = DecisionTreeRegressor(featuresCol ='scaled_features', labelCol = 'Total Compensation')\n",
    "dt_model = dt.fit(trainDF)"
   ]
  },
  {
   "cell_type": "markdown",
   "metadata": {
    "application/vnd.databricks.v1+cell": {
     "inputWidgets": {},
     "nuid": "addb469a-37a3-47e8-8e65-4972a889cc4f",
     "showTitle": false,
     "title": ""
    },
    "id": "NPagi7ftQP0i"
   },
   "source": [
    "### Model Persistence (Optional)\n",
    "Model persistence means saving your model to a disk. After you finalize your model for prediction depending upon the performance, you need to save the model to the disk. Let's say, you finalize 'lrmodel' to be used for in production environment i.e. in your application. We use the following code to save it."
   ]
  },
  {
   "cell_type": "markdown",
   "metadata": {
    "id": "Id1_cG1yb_7n"
   },
   "source": [
    "##### Saving the model"
   ]
  },
  {
   "cell_type": "code",
   "execution_count": null,
   "metadata": {
    "application/vnd.databricks.v1+cell": {
     "inputWidgets": {},
     "nuid": "be6d56cb-e99e-4b37-993b-ef66c9bf7963",
     "showTitle": false,
     "title": ""
    },
    "id": "VHHfHnTgQP0i",
    "outputId": "abf31351-bbb5-4a5f-ced2-6b705a4825e2"
   },
   "outputs": [
    {
     "data": {
      "text/html": [
       "<style scoped>\n",
       "  .ansiout {\n",
       "    display: block;\n",
       "    unicode-bidi: embed;\n",
       "    white-space: pre-wrap;\n",
       "    word-wrap: break-word;\n",
       "    word-break: break-all;\n",
       "    font-family: \"Source Code Pro\", \"Menlo\", monospace;;\n",
       "    font-size: 13px;\n",
       "    color: #555;\n",
       "    margin-left: 4px;\n",
       "    line-height: 19px;\n",
       "  }\n",
       "</style>"
      ]
     },
     "metadata": {
      "application/vnd.databricks.v1+output": {
       "arguments": {},
       "data": "",
       "errorSummary": "",
       "errorTraceType": null,
       "metadata": {},
       "type": "ipynbError"
      }
     },
     "output_type": "display_data"
    }
   ],
   "source": [
    "# use save() method to save the model\n",
    "# write().overwrite() is usually used when you want to replace the older model with a new one\n",
    "# It might happen that you wish to retrain your model and save it at the same the place\n",
    "lrmodel.write().overwrite().save(\"/FileStore/models/lrmodel\")"
   ]
  },
  {
   "cell_type": "markdown",
   "metadata": {
    "id": "VzsuP83tcEVN"
   },
   "source": [
    "##### Loading the model"
   ]
  },
  {
   "cell_type": "code",
   "execution_count": null,
   "metadata": {
    "id": "273mlbIPb8rY"
   },
   "outputs": [],
   "source": [
    "# import PipelineModel from pyspark.ml package\n",
    "from pyspark.ml import PipelineModel\n",
    "\n",
    "# load the model from the location it is stored\n",
    "# The loaded model acts as PipelineModel\n",
    "pipemodel = PipelineModel.load(\"/FileStore/models/lrmodel\")\n",
    "\n",
    "# use the PipelineModel object to perform prediciton on test data. \n",
    "# Use .transform() to perfrom prediction\n",
    "prediction = pipemodel.transform(testDF)\n",
    "\n",
    "# print the results\n",
    "prediction.select('label', 'rawPrediction', 'probability', 'prediction').show(5)"
   ]
  }
 ],
 "metadata": {
  "application/vnd.databricks.v1+notebook": {
   "dashboards": [],
   "language": "python",
   "notebookMetadata": {
    "pythonIndentUnit": 2
   },
   "notebookName": "In-Class Exercise (Spark ML)",
   "notebookOrigID": 3796726700441172,
   "widgets": {}
  },
  "colab": {
   "collapsed_sections": [],
   "name": "Part-2 Question Notebook-.ipynb",
   "provenance": []
  },
  "kernelspec": {
   "display_name": "Python 3 (ipykernel)",
   "language": "python",
   "name": "python3"
  },
  "language_info": {
   "codemirror_mode": {
    "name": "ipython",
    "version": 3
   },
   "file_extension": ".py",
   "mimetype": "text/x-python",
   "name": "python",
   "nbconvert_exporter": "python",
   "pygments_lexer": "ipython3",
   "version": "3.11.4"
  }
 },
 "nbformat": 4,
 "nbformat_minor": 1
}
